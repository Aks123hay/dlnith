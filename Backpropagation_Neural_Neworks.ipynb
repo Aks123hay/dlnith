{
  "nbformat": 4,
  "nbformat_minor": 0,
  "metadata": {
    "colab": {
      "name": "Copy of Backpropagation_Neural_Neworks.ipynb",
      "version": "0.3.2",
      "provenance": [],
      "collapsed_sections": []
    },
    "kernelspec": {
      "name": "python3",
      "display_name": "Python 3"
    }
  },
  "cells": [
    {
      "cell_type": "code",
      "metadata": {
        "id": "65n0oxw3PXOl",
        "colab_type": "code",
        "colab": {}
      },
      "source": [
        "import numpy as np "
      ],
      "execution_count": 0,
      "outputs": []
    },
    {
      "cell_type": "code",
      "metadata": {
        "id": "ZRAZZ-rCX10M",
        "colab_type": "code",
        "colab": {}
      },
      "source": [
        "# X = (hours sleeping, hours studying) , y = test score of the student\n",
        "X = np.array(([2,9],[1,5],[3,6]),dtype = float)\n",
        "y = np.array(([92],[86],[89]),dtype = float)"
      ],
      "execution_count": 0,
      "outputs": []
    },
    {
      "cell_type": "code",
      "metadata": {
        "id": "ir0zdsGpaJco",
        "colab_type": "code",
        "outputId": "a6a6ec21-b13a-454d-acf5-0c18ed303281",
        "colab": {
          "base_uri": "https://localhost:8080/",
          "height": 116
        }
      },
      "source": [
        "#scale units\n",
        "X = X/np.amax(X, axis = 0)  # maximum of input array\n",
        "y = y/100  #maximum test score = 100\n",
        "\n",
        "print(X)\n",
        "print(y)"
      ],
      "execution_count": 5,
      "outputs": [
        {
          "output_type": "stream",
          "text": [
            "[[0.66666667 1.        ]\n",
            " [0.33333333 0.55555556]\n",
            " [1.         0.66666667]]\n",
            "[[0.92]\n",
            " [0.86]\n",
            " [0.89]]\n"
          ],
          "name": "stdout"
        }
      ]
    },
    {
      "cell_type": "code",
      "metadata": {
        "id": "MRfOJkaDdjlf",
        "colab_type": "code",
        "outputId": "bd999fc2-2ae5-4173-9ce5-445323c15a10",
        "colab": {
          "base_uri": "https://localhost:8080/",
          "height": 400
        }
      },
      "source": [
        "class NeuralNetwork(object):\n",
        "  def __init__(self):\n",
        "    # parameters (three parameters for three layers of our neural network)\n",
        "    self.inputSize = 2\n",
        "    self.outputSize = 1\n",
        "    self.hiddenSize = 3\n",
        "    #weights\n",
        "    self.W1 = np.random.randn(self.inputSize,self.hiddenSize) #(2,3) weight matrix from input to hidden layer\n",
        "    self.W2 = np.random.randn(self.hiddenSize,self.outputSize) # (3,1) weight matrix from hidden to output layer\n",
        "    \n",
        "  def feedForward(self,X):\n",
        "    #forward propagation through the network\n",
        "    self.z = np.dot(X,self.W1) #dot product of input and first set of weights\n",
        "    self.z2 = self.sigmoid(self.z) #activation function\n",
        "    self.z3 = np.dot(self.z2,self.W2) #dot product of hidden layer and second set of weights\n",
        "    output = self.sigmoid(self.z3)\n",
        "    return output\n",
        "    \n",
        "  def sigmoid(self,s,deriv=False):\n",
        "    if(deriv == True):\n",
        "      return s*(1-s)\n",
        "    return 1/(1+np.exp(-s))\n",
        "  \n",
        "  def backward(self, X, y, output):    \n",
        "    #backward propagate through the network\n",
        "    self.output_error = y - output  #error in output\n",
        "    self.output_delta = self.output_error * self.sigmoid(output,deriv = True)\n",
        "    self.z2_error = self.output_delta.dot(self.W2.T) #using chain rule to find out how much our hidden layer weights contribute to output error\n",
        "    self.z2_delta = self.z2_error * self.sigmoid(self.z2,deriv = True) #applying derivation of sigmoid to z2 error\n",
        "    \n",
        "    self.W1 += X.T.dot(self.z2_delta) #adjusting first set(input ->hidden) weight\n",
        "    self.W2 += self.z2.T.dot(self.output_delta)  #adjusting second set(hidden -> output) weights\n",
        "    \n",
        "  def train(self, X, y):\n",
        "    output = self.feedForward(X)\n",
        "    self.backward(X, y, output)\n",
        "    \n",
        "NN = NeuralNetwork()\n",
        "for i in range(1000):\n",
        "  if(i%100 == 0):\n",
        "    print(\"Loss:\"+str(np.mean(np.square( y - NN.feedForward(X)))))\n",
        "    \n",
        "  NN.train(X,y)\n",
        "  \n",
        "print(\"Input:\" +str(X)+\"\\n\")\n",
        "print(\"Actual Output:\" +str(y)+\"\\n\")\n",
        "print(\"Loss:\"+str(np.mean(np.square( y - NN.feedForward(X))))+\"\\n\")\n",
        "print(\"Predicted output is:\" + str(NN.feedForward(X)))\n",
        "\n",
        "\n",
        "\n",
        "    \n",
        "    \n",
        "  \n",
        "  \n",
        "  "
      ],
      "execution_count": 6,
      "outputs": [
        {
          "output_type": "stream",
          "text": [
            "Loss:0.03508246059542721\n",
            "Loss:0.0005458848201339815\n",
            "Loss:0.0005106569676186929\n",
            "Loss:0.0004814499128606772\n",
            "Loss:0.0004559036933327059\n",
            "Loss:0.00043347211472715487\n",
            "Loss:0.0004136969460669236\n",
            "Loss:0.000396193782352095\n",
            "Loss:0.000380639891017172\n",
            "Loss:0.0003667638552243982\n",
            "Input:[[0.66666667 1.        ]\n",
            " [0.33333333 0.55555556]\n",
            " [1.         0.66666667]]\n",
            "\n",
            "Actual Output:[[0.92]\n",
            " [0.86]\n",
            " [0.89]]\n",
            "\n",
            "Loss:0.0003543368906509659\n",
            "\n",
            "Predicted output is:[[0.89584922]\n",
            " [0.86475566]\n",
            " [0.91138069]]\n"
          ],
          "name": "stdout"
        }
      ]
    },
    {
      "cell_type": "code",
      "metadata": {
        "id": "JXj-1tygpFKF",
        "colab_type": "code",
        "colab": {}
      },
      "source": [
        ""
      ],
      "execution_count": 0,
      "outputs": []
    }
  ]
}