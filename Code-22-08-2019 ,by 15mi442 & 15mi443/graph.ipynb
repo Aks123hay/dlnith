{
 "cells": [
  {
   "cell_type": "code",
   "execution_count": 1,
   "metadata": {},
   "outputs": [],
   "source": [
    "import numpy as np\n",
    "\n",
    "class ActivationFunctions:\n",
    "    \"Implementing Activation Functions\"\n",
    "\n",
    "    def sigmoid(x):\n",
    "        ''' It returns 1/(1+exp(-x)).\n",
    "            where the values lies between zero and one '''\n",
    "\n",
    "        return 1/(1+np.exp(-x))\n",
    "\n",
    "    def tanh(x):\n",
    "        ''' It returns the value (1-exp(-2x))/(1+exp(-2x))\n",
    "            and the value returned will be lies in between -1 to 1.'''\n",
    "\n",
    "        return np.tanh(x)\n",
    "\n",
    "    def arcTan(x):\n",
    "        ''' It returns the value tanInverse(x)\n",
    "            and the returned valus lies in between -1.570796327 to 1.570796327. '''\n",
    "\n",
    "        return np.arctan(x)\n",
    "\n",
    "    def ReLU(x):\n",
    "        ''' It returns zero if the inputis less than zero\n",
    "            otherwise it returns the given input. '''\n",
    "        x1=[]\n",
    "        for i in x:\n",
    "            if i<0:\n",
    "                x1.append(0)\n",
    "            else:\n",
    "                x1.append(i)\n",
    "\n",
    "        return x1\n",
    "\n",
    "    def leakyReLU(x):\n",
    "        ''' If 'x' is the given input, then returns zero if the inputis less than zero\n",
    "            otherwise it returns 0.01x . '''\n",
    "        \n",
    "        x1=[]\n",
    "        for i in x:\n",
    "            if i<0:\n",
    "                x1.append(0.01*i)\n",
    "            else:\n",
    "                x1.append(i)\n",
    "        #print(x,x1)\n",
    "\n",
    "        return x1\n",
    "    def softmax(x):\n",
    "        ''' Compute softmax values for each sets of scores in x. '''\n",
    "        return np.exp(x) / np.sum(np.exp(x), axis=0)\n",
    "\n",
    "\n"
   ]
  },
  {
   "cell_type": "code",
   "execution_count": null,
   "metadata": {},
   "outputs": [],
   "source": []
  },
  {
   "cell_type": "code",
   "execution_count": null,
   "metadata": {},
   "outputs": [],
   "source": []
  },
  {
   "cell_type": "code",
   "execution_count": null,
   "metadata": {},
   "outputs": [],
   "source": []
  },
  {
   "cell_type": "code",
   "execution_count": null,
   "metadata": {},
   "outputs": [],
   "source": []
  }
 ],
 "metadata": {
  "kernelspec": {
   "display_name": "Python 3",
   "language": "python",
   "name": "python3"
  },
  "language_info": {
   "codemirror_mode": {
    "name": "ipython",
    "version": 3
   },
   "file_extension": ".py",
   "mimetype": "text/x-python",
   "name": "python",
   "nbconvert_exporter": "python",
   "pygments_lexer": "ipython3",
   "version": "3.7.3"
  }
 },
 "nbformat": 4,
 "nbformat_minor": 2
}
