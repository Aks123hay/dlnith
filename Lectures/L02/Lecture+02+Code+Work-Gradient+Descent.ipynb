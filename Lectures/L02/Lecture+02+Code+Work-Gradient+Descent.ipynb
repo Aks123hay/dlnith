{
 "cells": [
  {
   "cell_type": "code",
   "execution_count": 53,
   "metadata": {
    "collapsed": true
   },
   "outputs": [],
   "source": [
    "#Animesh Srivastava 15MI445\n",
    "\n",
    "#Requirements\n",
    "#Scipy Version 1.1.0\n",
    "#numpy Version 1.14.5\n",
    "#matplotlib Version  2.2.2\n",
    "#jupyter Version 1.0.0\n",
    "#*Note that all the higher available versions can support the work\n",
    "\n",
    "%matplotlib inline\n",
    "import numpy as np\n",
    "import scipy as sp\n",
    "from scipy import stats\n",
    "from scipy.optimize import fmin\n",
    "import matplotlib.pyplot as plt\n",
    "import random"
   ]
  },
  {
   "cell_type": "markdown",
   "metadata": {},
   "source": [
    "[This cell is formatted to be a Markdown Cell] \n",
    "\n",
    "To understand how to use Markdown, refer here: https://github.com/adam-p/markdown-here/wiki/Markdown-Cheatsheet\n",
    "\n",
    "\n",
    "# Gradient Descent\n",
    "\n",
    "Gradient descent is a first-order iterative optimization algorithm for finding the minimum of a function. To find a local minimum of a function using gradient descent, one takes steps proportional to the negative of the gradient (or approximate gradient) of the function at the current point.\n",
    "\n",
    "Also refer to Appendix for detailed discussion.\n",
    "\n",
    "![Gradient Descent](https://optimization.mccormick.northwestern.edu/images/4/4c/Line_search_alogorithm_chart.png)\n",
    "\n",
    "As a simple example, let's find a local minimum for the function $f(x) = x^3-2x^2+1.5$\n",
    "\n",
    "To understand gradient descent:\n",
    "1. https://www.kdnuggets.com/2017/04/simple-understand-gradient-descent-algorithm.html\n",
    "2. https://ml-cheatsheet.readthedocs.io/en/latest/gradient_descent.html\n",
    "3. https://medium.com/deep-math-machine-learning-ai/chapter-1-2-gradient-descent-with-math-d4f2871af402"
   ]
  },
  {
   "cell_type": "code",
   "execution_count": 54,
   "metadata": {},
   "outputs": [
    {
     "data": {
      "image/png": "[encoded data removed]",
      "text/plain": [
       "<matplotlib.figure.Figure at 0x7f1eb6cd3450>"
      ]
     },
     "metadata": {},
     "output_type": "display_data"
    }
   ],
   "source": [
    "f = lambda x: x**3-2*x**2+1.5\n",
    "x = np.linspace(-2,3,1000)\n",
    "plt.plot(x,f(x))\n",
    "plt.xlim([0,4])\n",
    "plt.ylim([0,4])\n",
    "plt.show()"
   ]
  },
  {
   "cell_type": "markdown",
   "metadata": {},
   "source": [
    "From the graph it is visible that local minimum is near 1.4 or 1.5 (on the x-axis)\n",
    "Something similar to the graph below, as we can easily see from the figure\n",
    "\n",
    "![](https://miro.medium.com/max/1400/1*jNyE54fTVOH1203IwYeNEg.png)\n",
    "\n",
    "\n",
    "\n",
    "But let's pretend that we don't know that, so we set our starting point (arbitrarily, in this case) at $x_0 = 1$\n",
    "\n",
    "To understand python functions:\n",
    "https://ehmatthes.github.io/pcc/cheatsheets/README.html"
   ]
  },
  {
   "cell_type": "code",
   "execution_count": 55,
   "metadata": {},
   "outputs": [
    {
     "name": "stdout",
     "output_type": "stream",
     "text": [
      "Local minimum at: 1.33324303007\n",
      "Number of steps: 18\n"
     ]
    }
   ],
   "source": [
    "x_old = 0 # Let old value be 0\n",
    "x_new = 1 # The algorithm starts at x=1\n",
    "n_k = 0.1 # This is the step size\n",
    "precision = 0.0001\n",
    "\n",
    "x_list, y_list = [x_new], [f(x_new)]\n",
    "\n",
    "\n",
    "def f_prime(x):\n",
    "    return 3*x**2-4*x #derivative of f\n",
    " \n",
    "while abs(x_new - x_old) > precision:\n",
    "    x_old = x_new\n",
    "    s_k = -f_prime(x_old)\n",
    "    x_new = x_old + n_k * s_k\n",
    "    x_list.append(x_new)\n",
    "    y_list.append(f(x_new))\n",
    "print \"Local minimum at:\", x_new\n",
    "print \"Number of steps:\", len(x_list)"
   ]
  },
  {
   "cell_type": "markdown",
   "metadata": {},
   "source": [
    "We can also reduce the number of Steps taken by starting from a higher starting point, say at $x_0 = 2$"
   ]
  },
  {
   "cell_type": "code",
   "execution_count": 56,
   "metadata": {},
   "outputs": [
    {
     "name": "stdout",
     "output_type": "stream",
     "text": [
      "Local minimum at: 1.33342535085\n",
      "Number of steps: 17\n"
     ]
    }
   ],
   "source": [
    "x_old = 0\n",
    "x_new = 2 # The algorithm starts at x=1\n",
    "n_k = 0.1 # step size\n",
    "precision = 0.0001\n",
    "\n",
    "x_list, y_list = [x_new], [f(x_new)]\n",
    "\n",
    "\n",
    "def f_prime(x):\n",
    "    return 3*x**2-4*x #derivative of f\n",
    " \n",
    "while abs(x_new - x_old) > precision:\n",
    "    x_old = x_new\n",
    "    s_k = -f_prime(x_old)\n",
    "    x_new = x_old + n_k * s_k\n",
    "    x_list.append(x_new)\n",
    "    y_list.append(f(x_new))\n",
    "print \"Local minimum at:\", x_new\n",
    "print \"Number of steps:\", len(x_list)"
   ]
  },
  {
   "cell_type": "markdown",
   "metadata": {},
   "source": [
    "The figures below show the route that was taken to find the local minimum.\n",
    "Step Size is taken constant above.\n",
    "If the step size is too small, then convergence will be very slow, but if we make it too large, then the method may fail to converge at all. "
   ]
  },
  {
   "cell_type": "code",
   "execution_count": 57,
   "metadata": {},
   "outputs": [
    {
     "data": {
      "image/png": "[encoded data removed]",
      "text/plain": [
       "<matplotlib.figure.Figure at 0x7f1eb6a1f890>"
      ]
     },
     "metadata": {},
     "output_type": "display_data"
    }
   ],
   "source": [
    "plt.figure(figsize=[8,3])\n",
    "plt.subplot(1,2,1)\n",
    "plt.scatter(x_list,y_list,c=\"r\")\n",
    "plt.plot(x_list,y_list,c=\"r\")\n",
    "plt.plot(x,f(x), c=\"b\")\n",
    "plt.xlim([-1,4])\n",
    "plt.ylim([0,2.5])\n",
    "plt.title(\"Gradient descent\")\n",
    "plt.subplot(1,2,2)\n",
    "plt.scatter(x_list,y_list,c=\"r\")\n",
    "plt.plot(x_list,y_list,c=\"r\")\n",
    "plt.plot(x,f(x), c=\"b\")\n",
    "plt.xlim([1.2,3])\n",
    "plt.ylim([0,3])\n",
    "plt.title(\"Gradient descent (zoomed version)\")\n",
    "plt.show()"
   ]
  },
  {
   "cell_type": "markdown",
   "metadata": {},
   "source": [
    "A solution to this is to use adaptive step sizes as the algorithm below does (using scipy's fmin function to find optimal step sizes):"
   ]
  },
  {
   "cell_type": "code",
   "execution_count": 58,
   "metadata": {},
   "outputs": [
    {
     "name": "stdout",
     "output_type": "stream",
     "text": [
      "Local minimum occurs at  1.33333333282\n",
      "Number of steps: 3\n"
     ]
    }
   ],
   "source": [
    "def f2(n,x,s):\n",
    "    x = x + n*s\n",
    "    return f(x)\n",
    "# We are using x_new to be 1, you can use any higher value in range\n",
    "x_old = 0\n",
    "x_new = 1 # The algorithm starts at x=2\n",
    "precision = 0.0001\n",
    "\n",
    "x_list, y_list = [x_new], [f(x_new)]\n",
    "\n",
    "# value of the derivative of our function\n",
    "def f_prime(x):\n",
    "    return 3*x**2-4*x\n",
    "\n",
    "while abs(x_new - x_old) > precision:\n",
    "    x_old = x_new\n",
    "    s_k = -f_prime(x_old)\n",
    "    \n",
    "    # use scipy fmin function\n",
    "    n_k = fmin(f2,0.1,(x_old,s_k), full_output = False, disp = False)\n",
    "\n",
    "    x_new = x_old + n_k * s_k\n",
    "    x_list.append(x_new)\n",
    "    y_list.append(f(x_new))\n",
    "    \n",
    "print \"Local minimum occurs at \", float(x_new)\n",
    "print \"Number of steps:\", len(x_list)"
   ]
  },
  {
   "cell_type": "markdown",
   "metadata": {},
   "source": [
    "We can implement it with x_new = 2 also,"
   ]
  },
  {
   "cell_type": "code",
   "execution_count": 60,
   "metadata": {},
   "outputs": [
    {
     "name": "stdout",
     "output_type": "stream",
     "text": [
      "Local minimum occurs at  1.33333332845\n",
      "Number of steps: 4\n"
     ]
    }
   ],
   "source": [
    "def f2(n,x,s):\n",
    "    x = x + n*s\n",
    "    return f(x)\n",
    "# We are using x_new to be 2, you can use any higher value in range\n",
    "x_old = 0\n",
    "x_new = 2 # The algorithm starts at x=2\n",
    "precision = 0.0001\n",
    "\n",
    "x_list, y_list = [x_new], [f(x_new)]\n",
    "\n",
    "# value of the derivative of our function\n",
    "def f_prime(x):\n",
    "    return 3*x**2-4*x\n",
    "\n",
    "while abs(x_new - x_old) > precision:\n",
    "    x_old = x_new\n",
    "    s_k = -f_prime(x_old)\n",
    "    \n",
    "    # use scipy fmin function \n",
    "    n_k = fmin(f2,0.1,(x_old,s_k), full_output = False, disp = False)\n",
    "\n",
    "    x_new = x_old + n_k * s_k\n",
    "    x_list.append(x_new)\n",
    "    y_list.append(f(x_new))\n",
    "    \n",
    "print \"Local minimum occurs at \", float(x_new)\n",
    "print \"Number of steps:\", len(x_list)"
   ]
  },
  {
   "cell_type": "markdown",
   "metadata": {},
   "source": [
    "For x_new = 2, With adaptive step sizes, the algorithm converges in just 4 iterations rather than 17. \n",
    "We can show this with help of plots. We can see that it converges quickly to a point near the local minimum, so it's hard to even discern the dots after the first two steps until we zoom in very close in the third frame below:"
   ]
  },
  {
   "cell_type": "code",
   "execution_count": 61,
   "metadata": {},
   "outputs": [
    {
     "data": {
      "image/png": "[encoded data removed]",
      "text/plain": [
       "<matplotlib.figure.Figure at 0x7f1eb6f7b2d0>"
      ]
     },
     "metadata": {},
     "output_type": "display_data"
    }
   ],
   "source": [
    "plt.figure(figsize=[15,5])\n",
    "plt.subplot(1,3,1)\n",
    "plt.scatter(x_list,y_list,c=\"r\")\n",
    "plt.plot(x_list,y_list,c=\"r\")\n",
    "plt.plot(x,f(x), c=\"b\")\n",
    "plt.xlim([0,3])\n",
    "plt.title(\"Gradient descent\")\n",
    "plt.subplot(1,3,2)\n",
    "plt.scatter(x_list,y_list,c=\"r\")\n",
    "plt.plot(x_list,y_list,c=\"r\")\n",
    "plt.plot(x,f(x), c=\"b\")\n",
    "plt.xlim([1.2,2.1])\n",
    "plt.ylim([0,2.5])\n",
    "plt.title(\"zoomed version\")\n",
    "plt.subplot(1,3,3)\n",
    "plt.scatter(x_list,y_list,c=\"r\")\n",
    "plt.plot(x_list,y_list,c=\"r\")\n",
    "plt.plot(x,f(x), c=\"b\")\n",
    "plt.xlim([1.3333,1.3335])\n",
    "plt.ylim([0,3])\n",
    "plt.title(\"zoomed in more\")\n",
    "plt.show()"
   ]
  },
  {
   "cell_type": "markdown",
   "metadata": {},
   "source": [
    "Another approach to update the step size is choosing a decrease constant $d$ that shrinks the step size over time:\n",
    "$\\eta(t+1) = \\eta(t) / (1+t \\times d)$."
   ]
  },
  {
   "cell_type": "code",
   "execution_count": 62,
   "metadata": {},
   "outputs": [
    {
     "name": "stdout",
     "output_type": "stream",
     "text": [
      "Local minimum occurs at: 1.33085067409\n",
      "Number of steps: 6\n"
     ]
    }
   ],
   "source": [
    "x_old = 0\n",
    "x_new = 2 # The algorithm starts at x=2\n",
    "n_k = 0.17 # step size\n",
    "precision = 0.0001\n",
    "t, d = 0, 1\n",
    "\n",
    "x_list, y_list = [x_new], [f(x_new)]\n",
    "\n",
    "#derivative of our function\n",
    "def f_prime(x):\n",
    "    return 3*x**2-4*x\n",
    " \n",
    "while abs(x_new - x_old) > precision:\n",
    "    x_old = x_new\n",
    "    s_k = -f_prime(x_old)\n",
    "    x_new = x_old + n_k * s_k\n",
    "    x_list.append(x_new)\n",
    "    y_list.append(f(x_new))\n",
    "    n_k = n_k / (1 + t * d)\n",
    "    t += 1\n",
    "\n",
    "print \"Local minimum occurs at:\", x_new\n",
    "print \"Number of steps:\", len(x_list)"
   ]
  },
  {
   "cell_type": "markdown",
   "metadata": {},
   "source": [
    "The graph is plotted after the code"
   ]
  },
  {
   "cell_type": "code",
   "execution_count": 44,
   "metadata": {},
   "outputs": [
    {
     "data": {
      "image/png": "[encoded data removed]",
      "text/plain": [
       "<matplotlib.figure.Figure at 0x7f1eb6a9d9d0>"
      ]
     },
     "metadata": {},
     "output_type": "display_data"
    }
   ],
   "source": [
    "plt.figure(figsize=[15,5])\n",
    "plt.subplot(1,3,1)\n",
    "plt.scatter(x_list,y_list,c=\"r\")\n",
    "plt.plot(x_list,y_list,c=\"r\")\n",
    "plt.plot(x,f(x), c=\"b\")\n",
    "plt.xlim([0,3])\n",
    "plt.title(\"Gradient descent\")\n",
    "plt.subplot(1,3,2)\n",
    "plt.scatter(x_list,y_list,c=\"r\")\n",
    "plt.plot(x_list,y_list,c=\"r\")\n",
    "plt.plot(x,f(x), c=\"b\")\n",
    "plt.xlim([1.2,2.1])\n",
    "plt.ylim([0,2.5])\n",
    "plt.title(\"zoomed version\")\n",
    "plt.subplot(1,3,3)\n",
    "plt.scatter(x_list,y_list,c=\"r\")\n",
    "plt.plot(x_list,y_list,c=\"r\")\n",
    "plt.plot(x,f(x), c=\"b\")\n",
    "plt.xlim([1.3333,1.3335])\n",
    "plt.ylim([0,3])\n",
    "plt.title(\"zoomed in more\")\n",
    "plt.show()"
   ]
  },
  {
   "cell_type": "markdown",
   "metadata": {},
   "source": [
    "Appendix:\n",
    "Gradient Descent and it's variant\n",
    "\n",
    "Let’s first see how gradient descent works on logistic regression before going into the details of its variants. For the sake of simplicity, let’s assume that the logistic regression model has only two parameters: weight w and bias b.\n",
    "\n",
    "1. Initialize weight w and bias b to any random numbers.\n",
    "\n",
    "2. Pick a value for the learning rate α. The learning rate determines how big the step would be on each iteration.\n",
    "\n",
    "    If α is very small, it would take long time to converge and become computationally expensive.\n",
    "    If α is large, it may fail to converge and overshoot the minimum.\n",
    "\n",
    "Therefore, plot the cost function against different values of α and pick the value of α that is right before the first value that didn’t converge so that we would have a very fast learning algorithm that converges, see figure\n",
    "\n",
    "![](https://miro.medium.com/max/1400/1*rcmvCjQvsxrJi8Y4HpGcCw.png)\n",
    "   The most commonly used rates are : 0.001, 0.003, 0.01, 0.03, 0.1, 0.3.\n",
    "\n",
    "3. Make sure to scale the data if it’s on a very different scales. If we don’t scale the data, the level curves (contours) would be narrower and taller which means it would take longer time to converge, see figure.\n",
    "\n",
    "![](https://miro.medium.com/max/700/1*vXpodxSx-nslMSpOELhovg.png)\n",
    "\n",
    "Scale the data to have μ = 0 and σ = 1. Below is the formula for scaling each example:\n",
    "\n",
    "![](https://miro.medium.com/max/573/1*2g6dhidPigWEuAFyNHL8iw.png)\n",
    "\n",
    "4. On each iteration, take the partial derivative of the cost function J(w) w.r.t each parameter (gradient):\n",
    "\n",
    "![](https://miro.medium.com/max/634/1*WmuFVQbceFdNKO2Usl_O7A.png)\n",
    "\n",
    "The update equations are:\n",
    "\n",
    "![](https://miro.medium.com/max/700/1*VDTl0P6ongCcM0AgDPUR_g.png)\n",
    "\n",
    "For the sake of illustration, let’s assume we don’t have bias. If the slope of the current value of w > 0, this means that we are to the right of optimal w*. Therefore, the update will be negative, and will start getting close to the optimal values of w*. However, if it’s negative, the update will be positive and will increase the current values of w to converge to the optimal values of w*(see figure):\n",
    "\n",
    "![](https://miro.medium.com/max/700/1*jNyE54fTVOH1203IwYeNEg.png)\n",
    "\n",
    "    Continue the process until the cost function converges. That is, until the error curve becomes flat and doesn’t change.\n",
    "    In addition, on each iteration, the step would be in the direction that gives the maximum change since it’s perpendicular to level curves at each step."
   ]
  },
  {
   "cell_type": "markdown",
   "metadata": {},
   "source": [
    " "
   ]
  },
  {
   "cell_type": "code",
   "execution_count": null,
   "metadata": {
    "collapsed": true
   },
   "outputs": [],
   "source": []
  }
 ],
 "metadata": {
  "kernelspec": {
   "display_name": "Python 2",
   "language": "python",
   "name": "python2"
  },
  "language_info": {
   "codemirror_mode": {
    "name": "ipython",
    "version": 2
   },
   "file_extension": ".py",
   "mimetype": "text/x-python",
   "name": "python",
   "nbconvert_exporter": "python",
   "pygments_lexer": "ipython2",
   "version": "2.7.12"
  }
 },
 "nbformat": 4,
 "nbformat_minor": 2
}
