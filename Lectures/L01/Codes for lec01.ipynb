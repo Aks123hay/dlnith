{
 "cells": [
  {
   "cell_type": "markdown",
   "metadata": {},
   "source": [
    "# Codes by  Somya Saraswat, Apoorva Jha, Rajan Verma"
   ]
  },
  {
   "cell_type": "markdown",
   "metadata": {},
   "source": [
    "## Metrics for evaluating a Machine Learning model"
   ]
  },
  {
   "cell_type": "markdown",
   "metadata": {},
   "source": [
    "### Code for calculating F1 score"
   ]
  },
  {
   "cell_type": "code",
   "execution_count": 22,
   "metadata": {},
   "outputs": [],
   "source": [
    "y = [1,1,0,1,0,0,0,1,1,0,1,0,1,1,1] # actual output\n",
    "ypred = [0,1,1,0,1,1,0,0,1,1,0,1,0,1,1] #predicted output"
   ]
  },
  {
   "cell_type": "code",
   "execution_count": 23,
   "metadata": {},
   "outputs": [],
   "source": [
    "tp = 0 #true positive\n",
    "tn = 0 # true negative\n",
    "fp = 0 # flase positive\n",
    "fn = 0 # false negative\n",
    "for i in range(len(y)):\n",
    "    if y[i] == 1 and ypred[i] == 1: # output is supposed to be true and it predicts true\n",
    "        tp = tp+1\n",
    "    elif y[i] == 0 and ypred[i] == 0: # output is supposed to be false and it predicts false\n",
    "        tn = tn+1\n",
    "    elif y[i] == 0 and ypred[i] == 1: # output is supposed to be false and it predicts true\n",
    "        fp = fp+1\n",
    "    else:# output is supposed to be true and it predicts false\n",
    "        fn = fn+1"
   ]
  },
  {
   "cell_type": "code",
   "execution_count": 24,
   "metadata": {},
   "outputs": [
    {
     "name": "stdout",
     "output_type": "stream",
     "text": [
      "The number of True Positives is: 4\n",
      "The number of True Negativess is: 1\n",
      "The number of False Positives is: 5\n",
      "The number of False Negativess is: 5\n"
     ]
    }
   ],
   "source": [
    "print(\"The number of True Positives is:\",tp)\n",
    "print(\"The number of True Negativess is:\",tn)\n",
    "print(\"The number of False Positives is:\",fp)\n",
    "print(\"The number of False Negativess is:\",fn)"
   ]
  },
  {
   "cell_type": "code",
   "execution_count": 25,
   "metadata": {},
   "outputs": [],
   "source": [
    "accuracy= (tp+tn)/(tp+tn+fp+fn) # the values the model predicts correctly\n",
    "precision=(tp)/(tp+fp) # Among the values that were predicted to be true how many were actually true\n",
    "recall = tp/(tp+fn) # Among the true values how many were predicted correctly\n",
    "specificity = tn/(tn+fp) # Among false values how many were correctly predicted as false\n",
    "F1score = 2*(recall * precision) / (recall + precision) # harmonic mean of recall and precision"
   ]
  },
  {
   "cell_type": "code",
   "execution_count": 26,
   "metadata": {},
   "outputs": [
    {
     "name": "stdout",
     "output_type": "stream",
     "text": [
      "Accuracy is: 0.3333333333333333\n",
      "precision is: 0.4444444444444444\n",
      "recall is: 0.4444444444444444\n",
      "specificity is: 0.16666666666666666\n",
      "F1 score is: 0.4444444444444444\n"
     ]
    }
   ],
   "source": [
    "print(\"Accuracy is:\", accuracy)\n",
    "print(\"precision is:\", precision)\n",
    "print(\"recall is:\", recall)\n",
    "print(\"specificity is:\", specificity)\n",
    "print(\"F1 score is:\", F1score) # higher the score better the model performance"
   ]
  },
  {
   "cell_type": "markdown",
   "metadata": {},
   "source": [
    "\n",
    "\n",
    "### Code for calculating AUC-ROC:"
   ]
  },
  {
   "cell_type": "markdown",
   "metadata": {},
   "source": [
    "The ROC curve is fpr(false postive rate) vs tpr(true positive rate) plots for different threshold values. Where tpr is the recall value as defined above and fpr is 1-specificity. For lower threshold values we get more values defined as true and vice versa. Using these tpr, fpr values for different threshold we plot the ROC. The AUC is the area under this curve.\n",
    "\n",
    "This basically tells us how well the model is able to classify the classes. Higher the AUC better is the classification.\n",
    "\n"
   ]
  },
  {
   "cell_type": "code",
   "execution_count": 27,
   "metadata": {},
   "outputs": [
    {
     "data": {
      "image/png": "[encoded data removed]",
      "text/plain": [
       "<Figure size 432x288 with 1 Axes>"
      ]
     },
     "metadata": {
      "needs_background": "light"
     },
     "output_type": "display_data"
    },
    {
     "name": "stdout",
     "output_type": "stream",
     "text": [
      "The AUC is:\n",
      "0.6799999999999999\n"
     ]
    }
   ],
   "source": [
    "import matplotlib.pyplot as plt\n",
    "import numpy as np\n",
    "from sklearn.metrics import roc_auc_score\n",
    "\n",
    "score = np.array([0.9, 0.8, 0.7, 0.6, 0.55, 0.54, 0.53, 0.52, 0.51, 0.505, 0.4, 0.39, 0.38, 0.37, 0.36, 0.35, 0.34, 0.33, 0.30, 0.1])\n",
    "y = np.array([1,1,0, 1, 1, 1, 0, 0, 1, 0, 1,0, 1, 0, 0, 0, 1 , 0, 1, 0])\n",
    "#score1=np.array([0,0,1,0,0,0,1,1,0,1,0,1,0,1,1,1,0,1,0,1])\n",
    "# false positive rate\n",
    "fpr = []\n",
    "# true positive rate\n",
    "tpr = []\n",
    "# Iterate thresholds from 0.0, 0.01, ... 1.0\n",
    "thresholds = np.arange(0.0, 1.01, .01)\n",
    "\n",
    "# get number of positive and negative examples in the dataset\n",
    "P = sum(y)\n",
    "N = len(y) - P\n",
    "\n",
    "# iterate through all thresholds and determine fraction of true positives\n",
    "# and false positives found at this threshold\n",
    "for thresh in thresholds:\n",
    "    FP=0\n",
    "    TP=0\n",
    "    for i in range(len(y)):\n",
    "        if (score[i] > thresh):\n",
    "            if y[i] == 1:\n",
    "                TP = TP + 1\n",
    "            if y[i] == 0:\n",
    "                FP = FP + 1\n",
    "    fpr.append(FP/float(N))\n",
    "    tpr.append(TP/float(P))\n",
    "\n",
    "plt.plot(fpr,tpr)\n",
    "plt.show()\n",
    "\n",
    "print (\"The AUC is:\")\n",
    "print(roc_auc_score(y,score)) # We are using sklearn to directly calculate the roc"
   ]
  },
  {
   "cell_type": "markdown",
   "metadata": {},
   "source": [
    "### Log-Loss Calculataion"
   ]
  },
  {
   "cell_type": "markdown",
   "metadata": {},
   "source": [
    "The log loss is calculated for classification problems. Higher th evalue better the model performance.\n"
   ]
  },
  {
   "cell_type": "code",
   "execution_count": 28,
   "metadata": {},
   "outputs": [
    {
     "name": "stdout",
     "output_type": "stream",
     "text": [
      "0.7865001346320544\n"
     ]
    }
   ],
   "source": [
    "\n",
    "\n",
    "import math #importing Math libraby for logrithmetic value calculation\n",
    "y = [0.0, 0.0, 1.0, 0.1, 0.0, 0.0, 0.0, 1.0, 0.0, 1.0]     #Actual OUTPUT\n",
    "y_pred =[0.1, 0.9, 0.9, 0.1, 0.1, 0.9, 0.1, 0.9, 0.9, 0.9] # Predicted OUTPUT\n",
    "loss = 0\n",
    "for i in range(len(y)):\n",
    "    loss=loss+(y[i]*math.log(y_pred[i])+(1-y[i])*math.log(1-y_pred[i]))  #Log_loss calculation function LOSS=(ylog(y_pred)+(1-y)log(1-y_pred))\n",
    " \n",
    "loss = -loss/len(y) #Loss Value\n",
    "\n",
    "print(loss) #loss value output\n",
    "\n"
   ]
  },
  {
   "cell_type": "code",
   "execution_count": null,
   "metadata": {},
   "outputs": [],
   "source": []
  }
 ],
 "metadata": {
  "kernelspec": {
   "display_name": "Python 3",
   "language": "python",
   "name": "python3"
  },
  "language_info": {
   "codemirror_mode": {
    "name": "ipython",
    "version": 3
   },
   "file_extension": ".py",
   "mimetype": "text/x-python",
   "name": "python",
   "nbconvert_exporter": "python",
   "pygments_lexer": "ipython3",
   "version": "3.7.3"
  }
 },
 "nbformat": 4,
 "nbformat_minor": 2
}
